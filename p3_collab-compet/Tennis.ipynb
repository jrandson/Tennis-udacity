{
 "cells": [
  {
   "cell_type": "markdown",
   "metadata": {},
   "source": [
    "# Collaboration and Competition\n",
    "\n",
    "---\n",
    "\n",
    "In this notebook, you will learn how to use the Unity ML-Agents environment for the third project of the [Deep Reinforcement Learning Nanodegree](https://www.udacity.com/course/deep-reinforcement-learning-nanodegree--nd893) program.\n",
    "\n",
    "### 1. Start the Environment\n",
    "\n",
    "We begin by importing the necessary packages.  If the code cell below returns an error, please revisit the project instructions to double-check that you have installed [Unity ML-Agents](https://github.com/Unity-Technologies/ml-agents/blob/master/docs/Installation.md) and [NumPy](http://www.numpy.org/)."
   ]
  },
  {
   "cell_type": "code",
   "execution_count": 1,
   "metadata": {},
   "outputs": [],
   "source": [
    "from unityagents import UnityEnvironment\n",
    "import numpy as np"
   ]
  },
  {
   "cell_type": "markdown",
   "metadata": {},
   "source": [
    "Next, we will start the environment!  **_Before running the code cell below_**, change the `file_name` parameter to match the location of the Unity environment that you downloaded.\n",
    "\n",
    "- **Mac**: `\"path/to/Tennis.app\"`\n",
    "- **Windows** (x86): `\"path/to/Tennis_Windows_x86/Tennis.exe\"`\n",
    "- **Windows** (x86_64): `\"path/to/Tennis_Windows_x86_64/Tennis.exe\"`\n",
    "- **Linux** (x86): `\"path/to/Tennis_Linux/Tennis.x86\"`\n",
    "- **Linux** (x86_64): `\"path/to/Tennis_Linux/Tennis.x86_64\"`\n",
    "- **Linux** (x86, headless): `\"path/to/Tennis_Linux_NoVis/Tennis.x86\"`\n",
    "- **Linux** (x86_64, headless): `\"path/to/Tennis_Linux_NoVis/Tennis.x86_64\"`\n",
    "\n",
    "For instance, if you are using a Mac, then you downloaded `Tennis.app`.  If this file is in the same folder as the notebook, then the line below should appear as follows:\n",
    "```\n",
    "env = UnityEnvironment(file_name=\"Tennis.app\")\n",
    "```"
   ]
  },
  {
   "cell_type": "code",
   "execution_count": 2,
   "metadata": {},
   "outputs": [
    {
     "name": "stdout",
     "output_type": "stream",
     "text": [
      "Tennis_Data  Tennis.x86  Tennis.x86_64\r\n"
     ]
    }
   ],
   "source": [
    "!ls ../Tennis_Linux/"
   ]
  },
  {
   "cell_type": "code",
   "execution_count": 3,
   "metadata": {},
   "outputs": [
    {
     "name": "stderr",
     "output_type": "stream",
     "text": [
      "INFO:unityagents:\n",
      "'Academy' started successfully!\n",
      "Unity Academy name: Academy\n",
      "        Number of Brains: 1\n",
      "        Number of External Brains : 1\n",
      "        Lesson number : 0\n",
      "        Reset Parameters :\n",
      "\t\t\n",
      "Unity brain name: TennisBrain\n",
      "        Number of Visual Observations (per agent): 0\n",
      "        Vector Observation space type: continuous\n",
      "        Vector Observation space size (per agent): 8\n",
      "        Number of stacked Vector Observation: 3\n",
      "        Vector Action space type: continuous\n",
      "        Vector Action space size (per agent): 2\n",
      "        Vector Action descriptions: , \n"
     ]
    }
   ],
   "source": [
    "env = UnityEnvironment(file_name=\"../Tennis_Linux/Tennis.x86_64\", no_graphics=False)"
   ]
  },
  {
   "cell_type": "markdown",
   "metadata": {},
   "source": [
    "Environments contain **_brains_** which are responsible for deciding the actions of their associated agents. Here we check for the first brain available, and set it as the default brain we will be controlling from Python."
   ]
  },
  {
   "cell_type": "code",
   "execution_count": 4,
   "metadata": {},
   "outputs": [],
   "source": [
    "# get the default brain\n",
    "brain_name = env.brain_names[0]\n",
    "brain = env.brains[brain_name]"
   ]
  },
  {
   "cell_type": "markdown",
   "metadata": {},
   "source": [
    "### 2. Examine the State and Action Spaces\n",
    "\n",
    "In this environment, two agents control rackets to bounce a ball over a net. If an agent hits the ball over the net, it receives a reward of +0.1.  If an agent lets a ball hit the ground or hits the ball out of bounds, it receives a reward of -0.01.  Thus, the goal of each agent is to keep the ball in play.\n",
    "\n",
    "The observation space consists of 8 variables corresponding to the position and velocity of the ball and racket. Two continuous actions are available, corresponding to movement toward (or away from) the net, and jumping. \n",
    "\n",
    "Run the code cell below to print some information about the environment."
   ]
  },
  {
   "cell_type": "code",
   "execution_count": 5,
   "metadata": {},
   "outputs": [
    {
     "name": "stdout",
     "output_type": "stream",
     "text": [
      "Number of agents: 2\n",
      "Size of each action: 2\n",
      "action space type: continuous\n",
      "There are 2 agents. Each observes a state with length: 24\n",
      "The state for the first agent looks like: [ 0.          0.          0.          0.          0.          0.\n",
      "  0.          0.          0.          0.          0.          0.\n",
      "  0.          0.          0.          0.         -6.65278625 -1.5\n",
      " -0.          0.          6.83172083  6.         -0.          0.        ]\n"
     ]
    }
   ],
   "source": [
    "# reset the environment\n",
    "env_info = env.reset(train_mode=True)[brain_name]\n",
    "\n",
    "# number of agents \n",
    "num_agents = len(env_info.agents)\n",
    "print('Number of agents:', num_agents)\n",
    "\n",
    "# size of each action\n",
    "action_size = brain.vector_action_space_size\n",
    "print('Size of each action:', action_size)\n",
    "print(\"action space type:\", brain.vector_action_space_type)\n",
    "\n",
    "\n",
    "# examine the state space \n",
    "states = env_info.vector_observations\n",
    "state_size = states.shape[1]\n",
    "print('There are {} agents. Each observes a state with length: {}'.format(states.shape[0], state_size))\n",
    "print('The state for the first agent looks like:', states[0])"
   ]
  },
  {
   "cell_type": "markdown",
   "metadata": {},
   "source": [
    "### 3. Take Random Actions in the Environment\n",
    "\n",
    "In the next code cell, you will learn how to use the Python API to control the agents and receive feedback from the environment.\n",
    "\n",
    "Once this cell is executed, you will watch the agents' performance, if they select actions at random with each time step.  A window should pop up that allows you to observe the agents.\n",
    "\n",
    "Of course, as part of the project, you'll have to change the code so that the agents are able to use their experiences to gradually choose better actions when interacting with the environment!"
   ]
  },
  {
   "cell_type": "markdown",
   "metadata": {},
   "source": [
    "When finished, you can close the environment."
   ]
  },
  {
   "cell_type": "code",
   "execution_count": 6,
   "metadata": {},
   "outputs": [],
   "source": [
    "#env.close()"
   ]
  },
  {
   "cell_type": "markdown",
   "metadata": {},
   "source": [
    "### 4. It's Your Turn!\n",
    "\n",
    "Now it's your turn to train your own agent to solve the environment!  When training the environment, set `train_mode=True`, so that the line for resetting the environment looks like the following:\n",
    "```python\n",
    "env_info = env.reset(train_mode=True)[brain_name]\n",
    "```"
   ]
  },
  {
   "cell_type": "code",
   "execution_count": 7,
   "metadata": {},
   "outputs": [],
   "source": [
    "import random\n",
    "import copy\n",
    "from collections import deque, namedtuple\n",
    "\n",
    "import numpy as np\n",
    "import matplotlib.pyplot as plt\n",
    "\n",
    "import torch\n",
    "import torch.nn as nn\n",
    "import torch.nn.functional as F\n",
    "import torch.optim as optim\n",
    "\n",
    "from unityagents import UnityEnvironment\n",
    "\n",
    "seed = 3298\n",
    "random.seed(seed)\n",
    "torch.manual_seed(seed)\n",
    "\n",
    "DEVICE = torch.device(\"cuda:0\" if torch.cuda.is_available() else \"cpu\")\n",
    "\n",
    "\n",
    "def hidden_init(layer):\n",
    "    fan_in = layer.weight.data.size()[0]\n",
    "    lim = 1. / np.sqrt(fan_in)\n",
    "    return -lim, lim\n",
    "\n",
    "\n",
    "class Actor(nn.Module):\n",
    "    def __init__(self, state_size, action_size, fc1_units, fc2_units):\n",
    "        super(Actor, self).__init__()\n",
    "        self.fc1 = nn.Linear(state_size, fc1_units)\n",
    "        self.bn1 = nn.BatchNorm1d(fc1_units)\n",
    "        self.fc2 = nn.Linear(fc1_units, fc2_units)\n",
    "        self.bn2 = nn.BatchNorm1d(fc2_units)\n",
    "        self.fc3 = nn.Linear(fc2_units, action_size)\n",
    "        self.reset_parameters()\n",
    "\n",
    "    def reset_parameters(self):\n",
    "        self.fc1.weight.data.uniform_(*hidden_init(self.fc1))\n",
    "        self.fc2.weight.data.uniform_(*hidden_init(self.fc2))\n",
    "        self.fc3.weight.data.uniform_(-3e-3, 3e-3)\n",
    "\n",
    "    def forward(self, state):\n",
    "        if state.dim() == 1:\n",
    "            state = torch.unsqueeze(state, 0)\n",
    "\n",
    "        x = self.bn1(F.relu(self.fc1(state)))\n",
    "        x = self.bn2(F.relu(self.fc2(x)))\n",
    "\n",
    "        return F.tanh(self.fc3(x))\n",
    "\n",
    "\n",
    "class Critic(nn.Module):\n",
    "    def __init__(self, state_size, action_size, fc1_units, fc2_units):\n",
    "        super(Critic, self).__init__()\n",
    "        self.fc1 = nn.Linear(state_size, fc1_units)\n",
    "        self.bn1 = nn.BatchNorm1d(fc1_units)\n",
    "        self.fc2 = nn.Linear(fc1_units + action_size, fc2_units)\n",
    "        self.fc3 = nn.Linear(fc2_units, 1)\n",
    "        self.reset_parameters()\n",
    "\n",
    "    def reset_parameters(self):\n",
    "        self.fc1.weight.data.uniform_(*hidden_init(self.fc1))\n",
    "        self.fc2.weight.data.uniform_(*hidden_init(self.fc2))\n",
    "        self.fc3.weight.data.uniform_(-3e-3, 3e-3)\n",
    "\n",
    "    def forward(self, state, action):\n",
    "        if state.dim() == 1:\n",
    "            state = torch.unsqueeze(state, 0)\n",
    "\n",
    "        x = self.bn1(F.relu(self.fc1(state)))\n",
    "        x = F.relu(self.fc2(torch.cat((x, action), dim=1)))\n",
    "        return self.fc3(x)\n"
   ]
  },
  {
   "cell_type": "code",
   "execution_count": 22,
   "metadata": {},
   "outputs": [],
   "source": [
    "class Replay:\n",
    "    def __init__(self, action_size, buffer_size, batch_size):\n",
    "        \n",
    "        self.action_size = action_size\n",
    "        self.buffer = deque(maxlen=buffer_size)\n",
    "        self.batch_size = batch_size\n",
    "\n",
    "    def add(self, state, action, reward, next_state, done):\n",
    "        experience = Experience(state, action, reward, next_state, done)\n",
    "        self.buffer.append(experience)\n",
    "\n",
    "    def sample(self):\n",
    "        experiences = random.sample(self.buffer, k=self.batch_size)\n",
    "\n",
    "        states = torch.from_numpy(np.vstack([e.state for e in experiences])).float().to(DEVICE)\n",
    "        actions = torch.from_numpy(np.vstack([e.action for e in experiences])).float().to(DEVICE)\n",
    "        rewards = torch.from_numpy(np.vstack([e.reward for e in experiences])).float().to(DEVICE)\n",
    "        next_states = torch.from_numpy(np.vstack([e.next_state for e in experiences])).float().to(DEVICE)\n",
    "        dones = torch.from_numpy(np.vstack([e.done for e in experiences]).astype(np.uint8)).float().to(DEVICE)\n",
    "\n",
    "        return states, actions, rewards, next_states, dones\n",
    "\n",
    "    def __len__(self):\n",
    "        return len(self.buffer)\n",
    "\n",
    "\n",
    "class Agent:\n",
    "    def __init__(self, state_size, action_size):\n",
    "\n",
    "        self.discount = 0.99\n",
    "        self.target_mix = 1e-3\n",
    "\n",
    "        self.online_actor = Actor(state_size, action_size, fc1_units=256, fc2_units=128).to(DEVICE)\n",
    "        self.target_actor = Actor(state_size, action_size, fc1_units=256, fc2_units=128).to(DEVICE)\n",
    "        self.actor_opt = optim.Adam(self.online_actor.parameters(), lr=3e-4)\n",
    "\n",
    "        self.online_critic = Critic(state_size, action_size, fc1_units=256, fc2_units=128).to(DEVICE)\n",
    "        self.target_critic = Critic(state_size, action_size, fc1_units=256, fc2_units=128).to(DEVICE)\n",
    "        self.critic_opt = optim.Adam(self.online_critic.parameters(), lr=3e-4)\n",
    "\n",
    "        self.noise = OrnsteinUhlenbeck(action_size, mu=0., theta=0.15, sigma=0.05)\n",
    "        self.replay = Replay(action_size, buffer_size=int(1e6), batch_size=128)\n",
    "\n",
    "    def step(self, state, action, reward, next_state, done):\n",
    "        self.replay.add(state, action, reward, next_state, done)\n",
    "\n",
    "        if len(self.replay) > self.replay.batch_size:\n",
    "            self.learn()\n",
    "\n",
    "    def act(self, state, add_noise=True):\n",
    "        state = torch.from_numpy(state).float().to(DEVICE)\n",
    "\n",
    "        self.online_actor.eval()\n",
    "\n",
    "        with torch.no_grad():\n",
    "            action = self.online_actor(state).cpu().data.numpy()\n",
    "\n",
    "        self.online_actor.train()\n",
    "\n",
    "        if add_noise:\n",
    "            action += self.noise.sample()\n",
    "\n",
    "        return np.clip(action, -1, 1)\n",
    "\n",
    "    def reset(self):\n",
    "        self.noise.reset()\n",
    "\n",
    "    def learn(self):\n",
    "        states, actions, rewards, next_states, dones = self.replay.sample()\n",
    "\n",
    "        # Update online critic model\n",
    "        # Predict actions for the next states with the target actor model\n",
    "        target_next_actions = self.target_actor(next_states)\n",
    "        # Compute Q values for the next states and actions with the target critic model\n",
    "        target_next_qs = self.target_critic(next_states, target_next_actions)\n",
    "        # Compute target Q values for the current states using the Bellman equation\n",
    "        target_qs = rewards + (self.discount * target_next_qs * (1 - dones))\n",
    "        # Compute Q values for the current states and actions with the online critic model\n",
    "        online_qs = self.online_critic(states, actions)\n",
    "        # Compute and minimize the online critic loss\n",
    "        critic_loss = F.mse_loss(online_qs, target_qs)\n",
    "        self.critic_opt.zero_grad()\n",
    "        critic_loss.backward()\n",
    "        torch.nn.utils.clip_grad_norm_(self.online_critic.parameters(), 1)\n",
    "        self.critic_opt.step()\n",
    "\n",
    "        # Update online actor model\n",
    "        # Predict actions for current states from the online actor model\n",
    "        online_actions = self.online_actor(states)\n",
    "        # Compute and minimize the online actor loss\n",
    "        actor_loss = -self.online_critic(states, online_actions).mean()\n",
    "        self.actor_opt.zero_grad()\n",
    "        actor_loss.backward()\n",
    "        self.actor_opt.step()\n",
    "\n",
    "        # Update target critic and actor models\n",
    "        self.soft_update(self.online_critic, self.target_critic)\n",
    "        self.soft_update(self.online_actor, self.target_actor)\n",
    "\n",
    "    def soft_update(self, online_model, target_model):\n",
    "        for target_param, online_param in zip(target_model.parameters(), online_model.parameters()):\n",
    "            target_param.data.copy_(self.target_mix * online_param.data + (1.0 - self.target_mix) * target_param.data)\n",
    "\n",
    "\n",
    "class OrnsteinUhlenbeck:\n",
    "    def __init__(self, size, mu, theta, sigma):\n",
    "        self.state = None\n",
    "        self.mu = mu * np.ones(size)\n",
    "        self.theta = theta\n",
    "        self.sigma = sigma\n",
    "        self.reset()\n",
    "\n",
    "    def reset(self):\n",
    "        self.state = copy.copy(self.mu)\n",
    "\n",
    "    def sample(self):\n",
    "        x = self.state\n",
    "        dx = self.theta * (self.mu - x) + self.sigma * np.array([random.random() for _ in range(len(x))])\n",
    "        self.state = x + dx\n",
    "        return self.state\n",
    "\n",
    "\n"
   ]
  },
  {
   "cell_type": "code",
   "execution_count": 23,
   "metadata": {},
   "outputs": [
    {
     "name": "stdout",
     "output_type": "stream",
     "text": [
      "Score (max over agents) from episode 1: 0.0\n",
      "Score (max over agents) from episode 2: 0.0\n"
     ]
    }
   ],
   "source": [
    "import time\n",
    "for i in range(1, 3):                                      # play game for 5 episodes\n",
    "    env_info = env.reset(train_mode=False)[brain_name]     # reset the environment    \n",
    "    states = env_info.vector_observations                  # get the current state (for each agent)\n",
    "    scores = np.zeros(num_agents)                          # initialize the score (for each agent)\n",
    "    while True:\n",
    "        actions = np.random.randn(num_agents, action_size) # select an action (for each agent)\n",
    "        # print(\"actions\", actions)\n",
    "        actions = np.clip(actions, -1, 1)                  # all actions between -1 and 1\n",
    "        env_info = env.step(actions)[brain_name]           # send all actions to tne environment\n",
    "        next_states = env_info.vector_observations         # get next state (for each agent)\n",
    "        # print(\"shape\", np.shape(next_states))\n",
    "        # print(\"next states\", next_states)\n",
    "        # print(\"one dim\", np.reshape(next_states, (1,-1))[0])\n",
    "        rewards = env_info.rewards                         # get reward (for each agent)\n",
    "        # print(\"rewards\", rewards)\n",
    "        dones = env_info.local_done                        # see if episode finished\n",
    "        # print(\"dones\", dones)\n",
    "        scores += env_info.rewards                         # update the score (for each agent)\n",
    "        states = next_states                               # roll over states to next time step\n",
    "        if np.any(dones):                                  # exit loop if episode finished\n",
    "            break\n",
    "        break\n",
    "    print('Score (max over agents) from episode {}: {}'.format(i, np.max(scores)))"
   ]
  },
  {
   "cell_type": "code",
   "execution_count": 24,
   "metadata": {},
   "outputs": [],
   "source": [
    "def tranform_state(state):\n",
    "    return np.reshape(state,(1, -1))[0]\n",
    "\n",
    "def run_ddpg(env, agent1, agent2, brain_name, max_episodes=1000, max_steps=10000):\n",
    "\n",
    "    scores = []\n",
    "\n",
    "    for episode in range(1, max_episodes + 1):\n",
    "        agent1.reset()\n",
    "        agent1.reset()\n",
    "        score = 0\n",
    "\n",
    "        env_info = env.reset(train_mode=True)[brain_name]\n",
    "        state = env_info.vector_observations\n",
    "        state = np.reshape(state,(1,-1))[0]\n",
    "        for step in range(max_steps):\n",
    "            \n",
    "            action1 = agent1.act(state)\n",
    "            action2 = agent2.act(state)\n",
    "            \n",
    "            action = [action1, action2]\n",
    "            env_info = env.step(action)[brain_name]\n",
    "            next_state = env_info.vector_observations\n",
    "            next_state = np.reshape(next_state,(1,-1))[0]\n",
    "            rewards = env_info.rewards            \n",
    "            dones = env_info.local_done\n",
    "            \n",
    "            score += max(rewards)\n",
    "            \n",
    "            agent1.step(state, action1, rewards[0], next_state, dones[0])   \n",
    "            agent1.step(state, action2, rewards[1], next_state, dones[1]) \n",
    "                        \n",
    "            state = next_state\n",
    "\n",
    "            if np.any(dones):\n",
    "                break\n",
    "\n",
    "        scores.append(score)\n",
    "        # scores_deque.append(score)\n",
    "        mean_score = np.mean(scores[-100:])\n",
    "\n",
    "        print('\\rEpisode {}\\tAverage Score: {:.2f}\\tScore: {:.2f}'.format(\n",
    "            episode, mean_score, score), end=\"\", flush=True)\n",
    "\n",
    "        if mean_score >= 0.5:\n",
    "            print(\"\\t Model reached the score goal in {} episodes!\".format(episode))\n",
    "            break\n",
    "\n",
    "    torch.save(agent1.online_actor.state_dict(), \"actor_model1.path\")\n",
    "    torch.save(agent1.online_critic.state_dict(), \"critic_model1.path\")   \n",
    "    \n",
    "    torch.save(agent2.online_actor.state_dict(), \"actor_model2.path\")\n",
    "    torch.save(agent2.online_critic.state_dict(), \"critic_model2.path\")\n",
    "    \n",
    "    return scores"
   ]
  },
  {
   "cell_type": "code",
   "execution_count": 25,
   "metadata": {},
   "outputs": [
    {
     "name": "stdout",
     "output_type": "stream",
     "text": [
      "training the DDPG model\n",
      "2\n",
      "24\n",
      "Episode 5000\tAverage Score: 0.05\tScore: 0.10"
     ]
    }
   ],
   "source": [
    "print(\"training the DDPG model\")\n",
    "Experience = namedtuple('Experience', 'state action reward next_state done')\n",
    "\n",
    "brain_name = env.brain_names[0]\n",
    "brain = env.brains[brain_name]\n",
    "env_info = env.reset(train_mode=True)[brain_name]  # reset the environment\n",
    "\n",
    "action_size = brain.vector_action_space_size\n",
    "print(action_size)\n",
    "\n",
    "states = env_info.vector_observations\n",
    "state_size = states.shape[1]\n",
    "print(state_size)\n",
    "agent1 = Agent(state_size=state_size*2, action_size=action_size)\n",
    "agent2 = Agent(state_size=state_size*2, action_size=action_size)\n",
    "scores = run_ddpg(env, agent1, agent2, brain_name, max_episodes=5000, max_steps=1000)"
   ]
  },
  {
   "cell_type": "code",
   "execution_count": 26,
   "metadata": {},
   "outputs": [
    {
     "data": {
      "image/png": "[encoded data removed]",
      "text/plain": [
       "<Figure size 432x288 with 1 Axes>"
      ]
     },
     "metadata": {
      "needs_background": "light"
     },
     "output_type": "display_data"
    }
   ],
   "source": [
    "fig, ax = plt.subplots()\n",
    "ax.plot(np.arange(1, len(scores) + 1), scores)\n",
    "ax.set_ylabel('Score')\n",
    "ax.set_xlabel('Episode #')\n",
    "fig.savefig(\"score_x_apisodes.png\")\n",
    "plt.show()"
   ]
  },
  {
   "cell_type": "code",
   "execution_count": 27,
   "metadata": {},
   "outputs": [
    {
     "data": {
      "image/png": "[encoded data removed]",
      "text/plain": [
       "<Figure size 432x288 with 1 Axes>"
      ]
     },
     "metadata": {
      "needs_background": "light"
     },
     "output_type": "display_data"
    }
   ],
   "source": [
    "w = 10\n",
    "mean_score = [np.mean(scores[i-w:i]) for i in range(w,len(scores))]\n",
    "fig, ax = plt.subplots()\n",
    "ax.plot(np.arange(1, len(mean_score) + 1), mean_score)\n",
    "ax.set_ylabel('Score')\n",
    "ax.set_xlabel('Episode #')\n",
    "fig.savefig(\"score_x_apisodes_100.png\")\n",
    "plt.show()"
   ]
  },
  {
   "cell_type": "code",
   "execution_count": null,
   "metadata": {},
   "outputs": [],
   "source": []
  }
 ],
 "metadata": {
  "kernelspec": {
   "display_name": "drlnd-env",
   "language": "python",
   "name": "drlnd"
  },
  "language_info": {
   "codemirror_mode": {
    "name": "ipython",
    "version": 3
   },
   "file_extension": ".py",
   "mimetype": "text/x-python",
   "name": "python",
   "nbconvert_exporter": "python",
   "pygments_lexer": "ipython3",
   "version": "3.6.8"
  }
 },
 "nbformat": 4,
 "nbformat_minor": 2
}
